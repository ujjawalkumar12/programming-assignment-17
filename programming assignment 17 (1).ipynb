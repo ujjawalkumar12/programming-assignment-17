{
 "cells": [
  {
   "cell_type": "markdown",
   "id": "d22d7114",
   "metadata": {},
   "source": [
    "1. Create a function that takes three arguments a, b, c and returns the sum of thenumbers that are evenly divided by c from the range a, b inclusive.\n",
    "\n",
    "Examples\n",
    "\n",
    "evenly_divisible(1, 10, 20) ➞ 0\n",
    "# No number between 1 and 10 can be evenly divided by 20.\n",
    "\n",
    "evenly_divisible(1, 10, 2) ➞ 30\n",
    "# 2 + 4 + 6 + 8 + 10 = 30\n",
    "\n",
    "evenly_divisible(1, 10, 3) ➞ 18\n",
    "# 3 + 6 + 9 = 18"
   ]
  },
  {
   "cell_type": "code",
   "execution_count": 1,
   "id": "badc8ea8",
   "metadata": {},
   "outputs": [],
   "source": [
    "def evenly_divisible(a, b, c):\n",
    "    total = 0\n",
    "    \n",
    "    for i in range(a, b + 1):\n",
    "        if i % c == 0:\n",
    "            total += i\n",
    "            \n",
    "    return total"
   ]
  },
  {
   "cell_type": "code",
   "execution_count": 2,
   "id": "de02cf04",
   "metadata": {},
   "outputs": [
    {
     "name": "stdout",
     "output_type": "stream",
     "text": [
      "0\n",
      "30\n",
      "18\n"
     ]
    }
   ],
   "source": [
    "print(evenly_divisible(1, 10, 20))\n",
    "print(evenly_divisible(1, 10, 2))\n",
    "print(evenly_divisible(1, 10, 3))"
   ]
  },
  {
   "cell_type": "markdown",
   "id": "93cde121",
   "metadata": {},
   "source": [
    "2. Create a function that returns True if a given inequality expression is correct and False otherwise ?\n",
    "\n",
    "Examples:\n",
    "correct_signs(\"3 < 7 < 11\") ➞ True\n",
    "correct_signs(\"13 > 44 > 33 > 1\") ➞ False\n",
    "correct_signs(\"1 < 2 < 6 < 9 > 3\") ➞ True"
   ]
  },
  {
   "cell_type": "code",
   "execution_count": 5,
   "id": "f34bd1db",
   "metadata": {},
   "outputs": [
    {
     "name": "stdout",
     "output_type": "stream",
     "text": [
      "True\n",
      "False\n",
      "True\n"
     ]
    }
   ],
   "source": [
    "def correct_signs(expression):\n",
    "    return eval(expression)\n",
    "\n",
    "print(correct_signs(\"3 < 7 < 11\"))\n",
    "print(correct_signs(\"13 > 44 > 33 > 1\"))\n",
    "print(correct_signs(\"1 < 2 < 6 < 9 > 3\"))"
   ]
  },
  {
   "cell_type": "markdown",
   "id": "06a67e4e",
   "metadata": {},
   "source": [
    "3. Create a function that replaces all the vowels in a string with a specified character ?\n",
    "\n",
    "Examples:\n",
    "replace_vowels(\"the aardvark\", \"#\") ➞ \"th# ##rdv#rk\"\n",
    "replace_vowels(\"minnie mouse\", \"?\") ➞ \"m?nn?? m??s?\"\n",
    "replace_vowels(\"shakespeare\", \"*\") ➞ \"shksp**r\""
   ]
  },
  {
   "cell_type": "code",
   "execution_count": 6,
   "id": "8b870f83",
   "metadata": {},
   "outputs": [
    {
     "name": "stdout",
     "output_type": "stream",
     "text": [
      "th# ##rdv#rk\n",
      "m?nn?? m??s?\n",
      "sh*k*sp**r*\n"
     ]
    }
   ],
   "source": [
    "def replace_vowels(string, char):\n",
    "    \n",
    "    new_string = []\n",
    "    vowels = ['a', 'e', 'i', 'o', 'u']\n",
    "    \n",
    "    for c in list(string):\n",
    "        if c in vowels:\n",
    "            new_string.append(char)\n",
    "        else:\n",
    "            new_string.append(c)\n",
    "            \n",
    "    return \"\".join(new_string) \n",
    "\n",
    "\n",
    "print(replace_vowels('the aardvark', '#')) \n",
    "print(replace_vowels('minnie mouse', '?'))\n",
    "print(replace_vowels('shakespeare', '*'))"
   ]
  },
  {
   "cell_type": "markdown",
   "id": "e982bc48",
   "metadata": {},
   "source": [
    "4. Write a function that calculates the factorial of a number recursively ?\n",
    "\n",
    "Examples:\n",
    "factorial(5) ➞ 120\n",
    "factorial(3) ➞ 6\n",
    "factorial(1) ➞ 1\n",
    "factorial(0) ➞ 1"
   ]
  },
  {
   "cell_type": "code",
   "execution_count": 7,
   "id": "725c9a39",
   "metadata": {},
   "outputs": [
    {
     "name": "stdout",
     "output_type": "stream",
     "text": [
      "factorial(5) ➞ 120\n",
      "factorial(3) ➞ 6\n",
      "factorial(1) ➞ 1\n",
      "factorial(0) ➞ 1\n"
     ]
    }
   ],
   "source": [
    "def factorial(n):\n",
    "    if n==0:\n",
    "        return 1\n",
    "    return n * factorial(n-1)\n",
    "\n",
    "print(f'factorial(5) ➞ {factorial(5)}')\n",
    "print(f'factorial(3) ➞ {factorial(3)}')\n",
    "print(f'factorial(1) ➞ {factorial(1)}')\n",
    "print(f'factorial(0) ➞ {factorial(0)}')"
   ]
  },
  {
   "cell_type": "markdown",
   "id": "c0e771ef",
   "metadata": {},
   "source": [
    "5.Hamming distance is the number of characters that differ between two strings ?\n",
    "\n",
    "To illustrate:\n",
    "String1: \"abcbba\"\n",
    "String2: \"abcbda\"\n",
    "Hamming Distance: 1 - \"b\" vs. \"d\" is the only difference.\n",
    "Create a function that computes the hamming distance between two strings.\n",
    "\n",
    "Examples:\n",
    "hamming_distance(\"abcde\", \"bcdef\") ➞ 5\n",
    "hamming_distance(\"abcde\", \"abcde\") ➞ 0\n",
    "hamming_distance(\"strong\", \"strung\") ➞ 1"
   ]
  },
  {
   "cell_type": "code",
   "execution_count": 8,
   "id": "b524c5bb",
   "metadata": {},
   "outputs": [],
   "source": [
    "def hamming_distance(str1, str2):\n",
    "    i = 0\n",
    "    count = 0\n",
    "    while(i < len(str1)):\n",
    "        if(str1[i] != str2[i]):\n",
    "            count += 1\n",
    "        i += 1\n",
    "    return count\n",
    " "
   ]
  },
  {
   "cell_type": "code",
   "execution_count": 9,
   "id": "8bc36b02",
   "metadata": {},
   "outputs": [
    {
     "name": "stdout",
     "output_type": "stream",
     "text": [
      "5\n",
      "1\n",
      "0\n"
     ]
    }
   ],
   "source": [
    "print(hamming_distance(\"abcde\", \"bcdef\"))\n",
    "print(hamming_distance('strong', 'strung'))\n",
    "print(hamming_distance('abcde', 'abcde'))"
   ]
  },
  {
   "cell_type": "code",
   "execution_count": null,
   "id": "e005a6f9",
   "metadata": {},
   "outputs": [],
   "source": []
  }
 ],
 "metadata": {
  "kernelspec": {
   "display_name": "Python 3 (ipykernel)",
   "language": "python",
   "name": "python3"
  },
  "language_info": {
   "codemirror_mode": {
    "name": "ipython",
    "version": 3
   },
   "file_extension": ".py",
   "mimetype": "text/x-python",
   "name": "python",
   "nbconvert_exporter": "python",
   "pygments_lexer": "ipython3",
   "version": "3.9.12"
  }
 },
 "nbformat": 4,
 "nbformat_minor": 5
}
